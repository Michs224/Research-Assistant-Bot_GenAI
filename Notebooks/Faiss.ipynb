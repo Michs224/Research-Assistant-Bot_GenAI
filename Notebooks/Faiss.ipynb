{
 "cells": [
  {
   "cell_type": "code",
   "execution_count": 2,
   "metadata": {},
   "outputs": [],
   "source": [
    "# #Install Packages\n",
    "# !pip install faiss-cpu\n",
    "# !pip install sentence_transformers"
   ]
  },
  {
   "cell_type": "code",
   "execution_count": 3,
   "metadata": {},
   "outputs": [],
   "source": [
    "import pandas as pd\n",
    "\n",
    "pd.set_option('display.max_colwidth', 100)"
   ]
  },
  {
   "cell_type": "code",
   "execution_count": 4,
   "metadata": {},
   "outputs": [
    {
     "data": {
      "text/plain": [
       "(8, 2)"
      ]
     },
     "execution_count": 4,
     "metadata": {},
     "output_type": "execute_result"
    }
   ],
   "source": [
    "df = pd.read_csv('./sample_text.csv')\n",
    "df.shape"
   ]
  },
  {
   "cell_type": "code",
   "execution_count": 5,
   "metadata": {},
   "outputs": [
    {
     "data": {
      "text/html": [
       "<div>\n",
       "<style scoped>\n",
       "    .dataframe tbody tr th:only-of-type {\n",
       "        vertical-align: middle;\n",
       "    }\n",
       "\n",
       "    .dataframe tbody tr th {\n",
       "        vertical-align: top;\n",
       "    }\n",
       "\n",
       "    .dataframe thead th {\n",
       "        text-align: right;\n",
       "    }\n",
       "</style>\n",
       "<table border=\"1\" class=\"dataframe\">\n",
       "  <thead>\n",
       "    <tr style=\"text-align: right;\">\n",
       "      <th></th>\n",
       "      <th>text</th>\n",
       "      <th>category</th>\n",
       "    </tr>\n",
       "  </thead>\n",
       "  <tbody>\n",
       "    <tr>\n",
       "      <th>0</th>\n",
       "      <td>Meditation and yoga can improve mental health</td>\n",
       "      <td>Health</td>\n",
       "    </tr>\n",
       "    <tr>\n",
       "      <th>1</th>\n",
       "      <td>Fruits, whole grains and vegetables helps control blood pressure</td>\n",
       "      <td>Health</td>\n",
       "    </tr>\n",
       "    <tr>\n",
       "      <th>2</th>\n",
       "      <td>These are the latest fashion trends for this week</td>\n",
       "      <td>Fashion</td>\n",
       "    </tr>\n",
       "    <tr>\n",
       "      <th>3</th>\n",
       "      <td>Vibrant color jeans for male are becoming a trend</td>\n",
       "      <td>Fashion</td>\n",
       "    </tr>\n",
       "    <tr>\n",
       "      <th>4</th>\n",
       "      <td>The concert starts at 7 PM tonight</td>\n",
       "      <td>Event</td>\n",
       "    </tr>\n",
       "    <tr>\n",
       "      <th>5</th>\n",
       "      <td>Navaratri dandiya program at Expo center in Mumbai this october</td>\n",
       "      <td>Event</td>\n",
       "    </tr>\n",
       "    <tr>\n",
       "      <th>6</th>\n",
       "      <td>Exciting vacation destinations for your next trip</td>\n",
       "      <td>Travel</td>\n",
       "    </tr>\n",
       "    <tr>\n",
       "      <th>7</th>\n",
       "      <td>Maldives and Srilanka are gaining popularity in terms of low budget vacation places</td>\n",
       "      <td>Travel</td>\n",
       "    </tr>\n",
       "  </tbody>\n",
       "</table>\n",
       "</div>"
      ],
      "text/plain": [
       "                                                                                  text  \\\n",
       "0                                        Meditation and yoga can improve mental health   \n",
       "1                     Fruits, whole grains and vegetables helps control blood pressure   \n",
       "2                                    These are the latest fashion trends for this week   \n",
       "3                                    Vibrant color jeans for male are becoming a trend   \n",
       "4                                                   The concert starts at 7 PM tonight   \n",
       "5                      Navaratri dandiya program at Expo center in Mumbai this october   \n",
       "6                                    Exciting vacation destinations for your next trip   \n",
       "7  Maldives and Srilanka are gaining popularity in terms of low budget vacation places   \n",
       "\n",
       "  category  \n",
       "0   Health  \n",
       "1   Health  \n",
       "2  Fashion  \n",
       "3  Fashion  \n",
       "4    Event  \n",
       "5    Event  \n",
       "6   Travel  \n",
       "7   Travel  "
      ]
     },
     "execution_count": 5,
     "metadata": {},
     "output_type": "execute_result"
    }
   ],
   "source": [
    "df"
   ]
  },
  {
   "cell_type": "code",
   "execution_count": 6,
   "metadata": {},
   "outputs": [
    {
     "name": "stdout",
     "output_type": "stream",
     "text": [
      "0                                          Meditation and yoga can improve mental health\n",
      "1                       Fruits, whole grains and vegetables helps control blood pressure\n",
      "2                                      These are the latest fashion trends for this week\n",
      "3                                      Vibrant color jeans for male are becoming a trend\n",
      "4                                                     The concert starts at 7 PM tonight\n",
      "5                        Navaratri dandiya program at Expo center in Mumbai this october\n",
      "6                                      Exciting vacation destinations for your next trip\n",
      "7    Maldives and Srilanka are gaining popularity in terms of low budget vacation places\n",
      "Name: text, dtype: object\n"
     ]
    }
   ],
   "source": [
    "print(df.text)"
   ]
  },
  {
   "cell_type": "code",
   "execution_count": 7,
   "metadata": {},
   "outputs": [
    {
     "data": {
      "text/plain": [
       "(8, 768)"
      ]
     },
     "execution_count": 7,
     "metadata": {},
     "output_type": "execute_result"
    }
   ],
   "source": [
    "from sentence_transformers import SentenceTransformer\n",
    "\n",
    "encoder = SentenceTransformer(\"avsolatorio/GIST-Embedding-v0\")\n",
    "vectors = encoder.encode(df.text)\n",
    "vectors.shape"
   ]
  },
  {
   "cell_type": "code",
   "execution_count": 8,
   "metadata": {},
   "outputs": [
    {
     "data": {
      "text/plain": [
       "512"
      ]
     },
     "execution_count": 8,
     "metadata": {},
     "output_type": "execute_result"
    }
   ],
   "source": [
    "encoder.max_seq_length"
   ]
  },
  {
   "cell_type": "code",
   "execution_count": 9,
   "metadata": {},
   "outputs": [
    {
     "data": {
      "text/plain": [
       "768"
      ]
     },
     "execution_count": 9,
     "metadata": {},
     "output_type": "execute_result"
    }
   ],
   "source": [
    "dim = vectors.shape[1]\n",
    "dim"
   ]
  },
  {
   "cell_type": "code",
   "execution_count": 10,
   "metadata": {},
   "outputs": [
    {
     "data": {
      "text/plain": [
       "<faiss.swigfaiss.IndexFlatL2; proxy of <Swig Object of type 'faiss::IndexFlatL2 *' at 0x000001921F348510> >"
      ]
     },
     "execution_count": 10,
     "metadata": {},
     "output_type": "execute_result"
    }
   ],
   "source": [
    "import faiss\n",
    "# print(help(faiss.IndexFlatL2))\n",
    "index = faiss.IndexFlatL2(dim)\n",
    "index"
   ]
  },
  {
   "cell_type": "code",
   "execution_count": 11,
   "metadata": {},
   "outputs": [],
   "source": [
    "index.add(vectors)"
   ]
  },
  {
   "cell_type": "code",
   "execution_count": 12,
   "metadata": {},
   "outputs": [
    {
     "data": {
      "text/plain": [
       "(768,)"
      ]
     },
     "execution_count": 12,
     "metadata": {},
     "output_type": "execute_result"
    }
   ],
   "source": [
    "search_query = \"I want to go to the beach\"\n",
    "vec = encoder.encode(sentences=search_query)\n",
    "vec.shape"
   ]
  },
  {
   "cell_type": "code",
   "execution_count": 13,
   "metadata": {},
   "outputs": [
    {
     "data": {
      "text/plain": [
       "(1, 768)"
      ]
     },
     "execution_count": 13,
     "metadata": {},
     "output_type": "execute_result"
    }
   ],
   "source": [
    "import numpy as np\n",
    "svec = np.array(vec).reshape(1,-1)\n",
    "svec.shape"
   ]
  },
  {
   "cell_type": "code",
   "execution_count": 14,
   "metadata": {},
   "outputs": [
    {
     "data": {
      "text/plain": [
       "array([[-3.82514223e-02, -1.53553355e-02, -7.76748406e-03,\n",
       "        -3.42873223e-02,  3.00935581e-02, -8.44205264e-03,\n",
       "         3.42817046e-02,  3.92005518e-02, -3.20673659e-02,\n",
       "        -5.71211688e-02,  1.05128725e-04,  3.05951992e-03,\n",
       "        -2.32191626e-02,  1.75354760e-02,  2.04758141e-02,\n",
       "         1.79510806e-02,  3.06967236e-02,  5.22467587e-03,\n",
       "         1.82236806e-02, -7.29599735e-03,  1.93084218e-02,\n",
       "         6.30076975e-02, -4.49153185e-02,  3.49803492e-02,\n",
       "         4.95070703e-02, -1.42291496e-02,  7.72644207e-02,\n",
       "         2.52888128e-02, -6.47956505e-02, -3.86661440e-02,\n",
       "        -1.06603128e-03, -2.10870663e-03, -3.06838937e-02,\n",
       "         3.89753170e-02, -2.13300548e-02, -1.54706324e-02,\n",
       "        -9.40539583e-04, -3.77519242e-02,  6.67015556e-04,\n",
       "        -1.56294908e-02, -2.23657247e-02, -2.80875266e-02,\n",
       "         2.45730653e-02, -1.70639511e-02, -1.26081547e-02,\n",
       "         3.96172255e-02,  1.18935863e-02,  2.11555511e-03,\n",
       "        -1.74774285e-02, -2.37401910e-02, -4.44907248e-02,\n",
       "         7.21855760e-02, -2.39563431e-03, -2.50975043e-03,\n",
       "         6.02618866e-02,  7.58161396e-02, -2.15059333e-02,\n",
       "        -4.53010760e-02, -1.59726292e-02, -2.86266282e-02,\n",
       "         2.63071656e-02,  2.69255713e-02,  2.62712222e-02,\n",
       "         5.53166680e-03,  4.00594808e-02,  5.08372262e-02,\n",
       "        -3.58629078e-02,  1.27405478e-02, -2.63581350e-02,\n",
       "        -9.71767027e-03, -2.35049464e-02, -2.68821679e-02,\n",
       "         8.04107729e-03, -1.69914719e-02, -1.92767405e-03,\n",
       "        -2.08611209e-02,  2.14529037e-02,  3.65361795e-02,\n",
       "        -1.39738480e-02,  2.66542081e-02, -1.59360282e-02,\n",
       "        -4.99703214e-02,  8.07394215e-04,  4.30488661e-02,\n",
       "        -2.66973954e-02, -4.00745608e-02,  9.79238469e-03,\n",
       "         3.48318256e-02, -6.46180883e-02,  6.55822158e-02,\n",
       "        -1.54009759e-02,  4.65248682e-04,  4.27231193e-02,\n",
       "         4.21123430e-02,  2.66731307e-02,  6.08026842e-03,\n",
       "         3.58616631e-03,  5.64589049e-04,  2.28887219e-02,\n",
       "         5.73528968e-02,  6.06417470e-03, -3.51304635e-02,\n",
       "         3.77673307e-04,  1.06192371e-02, -9.55756530e-02,\n",
       "        -1.77403521e-02,  1.04412797e-03,  3.05488240e-02,\n",
       "         3.85982580e-02,  9.34963953e-03, -2.93086432e-02,\n",
       "        -9.88440309e-03,  1.57223195e-02,  2.04503890e-02,\n",
       "        -6.12061284e-03,  5.30122668e-02,  3.21322009e-02,\n",
       "        -2.89990734e-02, -4.35872003e-02, -3.97252217e-02,\n",
       "         5.90509288e-02,  5.83869312e-03,  4.56824852e-03,\n",
       "         4.62407991e-02,  3.51665206e-02,  1.39463283e-02,\n",
       "        -8.72563571e-03,  3.81062664e-02, -6.48443913e-03,\n",
       "        -4.14818898e-02, -4.83933400e-04,  3.53740416e-02,\n",
       "        -1.24914711e-02,  1.38359086e-03, -2.88449973e-02,\n",
       "        -4.09443416e-02, -3.95188369e-02,  4.71736712e-04,\n",
       "         3.14294994e-02, -4.10953835e-02,  9.36357491e-03,\n",
       "         1.88571364e-02,  2.11542565e-02, -2.37807930e-02,\n",
       "         6.35027662e-02, -5.49553474e-03,  1.18140215e-02,\n",
       "        -5.27432635e-02, -3.03131342e-02,  3.04590929e-02,\n",
       "         1.09505998e-02,  1.35767199e-02, -4.62906057e-04,\n",
       "        -5.76032698e-02, -3.27990316e-02,  2.34404411e-02,\n",
       "         2.30475701e-02,  2.79280972e-02, -1.45953791e-02,\n",
       "         1.55364340e-02,  3.02043334e-02, -9.06479824e-03,\n",
       "         3.39324772e-02, -1.05080493e-02,  1.62022542e-02,\n",
       "         2.26328634e-02,  5.83222285e-02,  5.04822889e-03,\n",
       "         3.36434729e-02,  2.82598119e-02, -2.62770485e-02,\n",
       "        -1.72187556e-02,  4.37744595e-02,  1.12975910e-02,\n",
       "        -1.26620699e-02, -2.07756199e-02,  8.64093676e-02,\n",
       "         1.24643799e-02,  1.70955937e-02,  2.57462659e-03,\n",
       "        -7.03982785e-02,  1.97861958e-02,  7.82542769e-03,\n",
       "         1.06430370e-02,  1.02021834e-02, -4.56191376e-02,\n",
       "         2.91164499e-03,  2.03875732e-02,  2.07661521e-02,\n",
       "         4.07848880e-02, -6.95627928e-02, -7.33394027e-02,\n",
       "         4.46387641e-02, -3.18281236e-03,  6.82041689e-04,\n",
       "        -2.56007705e-02, -4.97453548e-02,  7.29453638e-02,\n",
       "        -1.45576923e-04,  7.66196325e-02, -2.08945591e-02,\n",
       "         2.01985147e-02,  7.57841840e-02, -3.24213952e-02,\n",
       "        -7.20515177e-02,  2.45287511e-02,  2.88997497e-02,\n",
       "         2.85017844e-02, -9.78412200e-03,  1.74807329e-02,\n",
       "        -5.80924563e-02,  3.40579189e-02,  3.73566076e-02,\n",
       "        -2.14507971e-02, -2.86131315e-02, -2.03862563e-02,\n",
       "         1.14995036e-02,  1.70931313e-03,  4.95072231e-02,\n",
       "        -3.82754356e-02,  1.49638196e-02,  3.39754783e-02,\n",
       "        -5.73416576e-02,  1.06420526e-02,  1.41770234e-02,\n",
       "         4.83012348e-02,  2.57315375e-02, -8.38261377e-03,\n",
       "         1.37439929e-02,  1.89953130e-02, -6.86645582e-02,\n",
       "         3.00696236e-03,  1.00336000e-02,  1.34903574e-02,\n",
       "         1.52618680e-02,  4.01685089e-02,  4.36331853e-02,\n",
       "        -3.51501815e-02,  2.06923988e-02, -5.93157969e-02,\n",
       "         5.54430066e-03,  6.46170974e-02,  2.13610567e-02,\n",
       "         6.42312691e-02, -4.31603193e-02, -5.32625848e-03,\n",
       "         3.93364951e-02, -3.29849273e-02, -3.38571630e-02,\n",
       "        -2.04853676e-02,  3.56460712e-03, -2.17073690e-02,\n",
       "        -5.61330374e-03,  7.24260649e-03, -1.97711885e-02,\n",
       "        -4.93763462e-02, -3.54156550e-03,  2.61097923e-02,\n",
       "         4.88148741e-02,  2.44344342e-02, -4.70133917e-03,\n",
       "         1.08760893e-02,  1.77621301e-02,  5.11605367e-02,\n",
       "        -3.74293141e-02, -5.96716627e-02, -8.37664381e-02,\n",
       "         1.23600895e-02,  4.87460010e-03,  4.34903912e-02,\n",
       "         4.17091064e-02,  6.91270968e-03,  2.66740452e-02,\n",
       "         2.63089873e-02, -5.19510023e-02, -3.72819370e-03,\n",
       "         5.42035513e-02,  1.86493676e-02, -7.95825105e-03,\n",
       "        -3.41659486e-02,  3.59253250e-02,  4.99044061e-02,\n",
       "        -2.76409723e-02, -6.95449933e-02,  5.20124584e-02,\n",
       "        -7.68661872e-02,  2.43468396e-03, -2.61670095e-03,\n",
       "        -3.44242863e-02, -6.61267992e-03,  3.80187258e-02,\n",
       "         1.04819648e-02,  4.17539068e-02,  1.16599738e-04,\n",
       "         2.85536591e-02, -5.33556044e-02,  2.82771587e-02,\n",
       "         5.58812320e-02, -3.61451954e-02, -1.35896709e-02,\n",
       "         3.71175595e-02, -2.38449592e-02,  1.97800547e-02,\n",
       "         4.28079255e-03,  3.22842859e-02,  2.47832015e-02,\n",
       "        -1.65612418e-02, -3.86537760e-02, -2.33030409e-01,\n",
       "         2.53698090e-03, -5.74942632e-03, -3.21837068e-02,\n",
       "        -2.00340319e-02, -1.85242649e-02, -5.22236899e-03,\n",
       "        -5.43000735e-02, -3.99603248e-02,  4.26596105e-02,\n",
       "        -2.99019422e-02, -2.14575753e-02, -9.85340122e-03,\n",
       "         2.77914181e-02,  1.30235571e-02, -8.67022667e-03,\n",
       "         2.61252243e-02, -2.72567607e-02, -7.14684045e-03,\n",
       "         1.56007335e-02, -3.28661576e-02, -5.14865555e-02,\n",
       "         7.77081447e-03, -1.73367094e-02,  1.88963078e-02,\n",
       "         6.38871416e-02,  1.51988287e-02, -4.41181503e-04,\n",
       "        -4.07498926e-02, -3.92065197e-02, -1.10530136e-02,\n",
       "        -5.15193827e-02,  5.66984862e-02, -3.20612602e-02,\n",
       "         4.64031566e-03,  4.80399318e-02,  3.00514959e-02,\n",
       "        -1.62489917e-02, -2.03927718e-02, -1.45772984e-02,\n",
       "        -5.15695214e-02, -6.48605749e-02, -6.98230043e-02,\n",
       "         8.57488718e-03,  5.61654605e-02, -6.90387636e-02,\n",
       "         3.55196074e-02, -4.32148948e-03,  4.28547636e-02,\n",
       "         7.14078695e-02,  1.08162304e-02, -3.77035029e-02,\n",
       "        -1.39990477e-02,  1.24748861e-02, -5.12359710e-03,\n",
       "         3.13231768e-03,  2.08818857e-02, -4.09648463e-04,\n",
       "        -6.23947494e-02, -4.98630339e-03,  1.92309115e-02,\n",
       "        -1.71016902e-02, -1.71608943e-02, -3.93667184e-02,\n",
       "         1.01834051e-02, -6.27958924e-02, -2.53862441e-02,\n",
       "        -5.99380806e-02,  4.66785729e-02,  4.34032381e-02,\n",
       "         5.26116379e-02, -5.92292733e-02, -4.61471267e-03,\n",
       "        -9.68874022e-02, -3.82281765e-02,  2.39009038e-02,\n",
       "        -5.32001965e-02, -6.29494190e-02, -5.76938363e-03,\n",
       "        -3.07162870e-02, -5.98992966e-02,  1.49467513e-02,\n",
       "        -9.30431020e-03,  6.49651363e-02,  1.01300683e-02,\n",
       "        -6.19711466e-02,  1.73102003e-02, -1.44401088e-03,\n",
       "         5.47491072e-04, -5.81085719e-02,  6.86739460e-02,\n",
       "         2.75574103e-02,  1.39749106e-02, -2.78334394e-02,\n",
       "         2.09090784e-02,  6.38194680e-02, -1.85349695e-02,\n",
       "        -4.95914593e-02,  1.41819101e-02, -8.73930827e-02,\n",
       "         3.19378413e-02, -2.50652861e-02,  2.91189384e-02,\n",
       "        -4.27807234e-02,  3.78839262e-02, -5.68663189e-03,\n",
       "        -1.88786816e-02,  4.01135385e-02, -2.97420658e-02,\n",
       "         2.17507854e-02,  3.04705724e-02,  1.19879395e-02,\n",
       "         3.75805539e-03, -4.86620292e-02, -1.69948079e-02,\n",
       "        -2.92140879e-02,  3.44510116e-02,  6.58625290e-02,\n",
       "         3.09341233e-02, -5.11186197e-03,  2.19754130e-02,\n",
       "         4.43884395e-02, -4.44226339e-02, -2.95048356e-02,\n",
       "        -6.73451498e-02, -7.54555641e-03,  1.43717220e-02,\n",
       "         1.28800911e-03, -3.16872932e-02,  2.19773389e-02,\n",
       "        -5.95676573e-03,  3.13185650e-04,  3.10437400e-02,\n",
       "        -1.93324015e-02,  3.31207998e-02, -3.01897116e-02,\n",
       "        -5.60052097e-02, -4.18630280e-02,  6.80119991e-02,\n",
       "         3.28436568e-02, -1.34544093e-02, -2.14301161e-02,\n",
       "         1.25661455e-02,  1.60285030e-02, -5.92143275e-03,\n",
       "         1.67830233e-02, -2.35429555e-02,  7.39625143e-03,\n",
       "        -2.72071976e-02,  2.29382683e-02,  4.51393612e-03,\n",
       "        -1.92421153e-02, -3.24463733e-02, -2.21593548e-02,\n",
       "        -2.34624241e-02, -1.00796241e-02,  2.17071250e-02,\n",
       "        -3.74231413e-02, -1.71865840e-02, -3.02709620e-02,\n",
       "        -2.71988101e-03, -6.63432851e-02, -4.82896864e-02,\n",
       "         1.77907366e-02, -1.65119171e-02,  7.13626146e-02,\n",
       "        -8.19416344e-02, -9.07973573e-03, -6.00921270e-03,\n",
       "         2.24008057e-02,  1.85274594e-02, -5.22613935e-02,\n",
       "        -2.75756344e-02, -5.86051913e-03, -1.68763101e-02,\n",
       "         2.12632064e-02, -5.23161143e-02, -6.54743658e-03,\n",
       "         8.29027500e-03, -1.10597108e-02, -3.05527840e-02,\n",
       "         1.29182190e-02,  8.12112726e-03, -3.79263866e-03,\n",
       "         5.36705367e-02, -5.05913086e-02, -3.30173448e-02,\n",
       "        -2.57351883e-02, -3.53477569e-03, -3.12624825e-03,\n",
       "         1.02871414e-02,  4.39921580e-02,  7.72825815e-03,\n",
       "        -3.69594432e-03, -6.36558160e-02, -8.66116732e-02,\n",
       "         8.65787268e-03,  2.37098839e-02, -2.34819017e-02,\n",
       "         4.77029495e-02, -5.01039764e-03, -8.13678280e-02,\n",
       "        -2.69282004e-03,  7.58899935e-03, -1.91527046e-02,\n",
       "        -7.42087364e-02, -1.28986337e-03,  5.84729947e-02,\n",
       "        -3.15715522e-02,  4.93247844e-02, -5.12891188e-02,\n",
       "        -4.71621193e-02, -9.67833027e-03,  3.19415182e-02,\n",
       "        -3.05901142e-03,  1.00871623e-02,  1.46280648e-02,\n",
       "        -3.30750681e-02,  1.69888698e-02, -3.18622589e-02,\n",
       "         3.79489027e-02,  8.34716484e-04, -3.06526963e-02,\n",
       "        -1.64845791e-02, -2.10377760e-02,  5.49848229e-02,\n",
       "        -2.30991039e-02, -2.15115938e-02,  6.97742850e-02,\n",
       "        -2.61583868e-02,  4.78961170e-02, -4.32485901e-02,\n",
       "         8.49654898e-03,  7.93403462e-02,  7.88218342e-03,\n",
       "        -2.10722107e-02,  9.21867508e-03,  3.37261036e-02,\n",
       "         2.37551536e-02,  9.13840458e-02,  2.51133973e-03,\n",
       "         8.24086089e-03, -2.28731371e-02, -3.48622091e-02,\n",
       "         2.13183425e-02,  2.49599684e-02, -5.87114729e-02,\n",
       "        -1.37262130e-02,  2.18656827e-02,  5.52162267e-02,\n",
       "        -1.89143289e-02,  1.59174949e-02, -7.15757487e-03,\n",
       "         8.27779714e-03,  2.66930573e-02, -1.16749422e-03,\n",
       "        -6.29980043e-02, -8.45437776e-03, -3.35282609e-02,\n",
       "         1.85125098e-02,  2.45569721e-02,  2.96161547e-02,\n",
       "        -3.13558392e-02,  3.55533361e-02,  1.40332188e-02,\n",
       "        -1.80393606e-02,  3.29294056e-02, -2.03822218e-02,\n",
       "         4.21526656e-02, -1.37356473e-02,  9.68408771e-03,\n",
       "        -6.90224543e-02,  6.27655815e-03,  1.13716777e-02,\n",
       "        -3.86760496e-02, -7.80332135e-03, -3.19552571e-02,\n",
       "        -2.42659990e-02,  6.01352900e-02, -6.32519200e-02,\n",
       "        -5.23017831e-02,  5.93755059e-02, -7.66419154e-03,\n",
       "        -2.49731187e-02, -6.22139825e-03, -2.04339009e-02,\n",
       "        -3.96801205e-03, -1.34349726e-02, -5.38822860e-02,\n",
       "         6.13468466e-03,  5.49787879e-02,  1.63399999e-03,\n",
       "        -9.69087332e-03,  2.52625030e-02,  7.35473959e-03,\n",
       "         3.24934311e-02,  4.35209759e-02,  6.10207729e-02,\n",
       "        -5.11661805e-02,  1.81689654e-02, -4.32986952e-02,\n",
       "         4.30475511e-02, -6.31129695e-03, -2.99253874e-03,\n",
       "        -1.92509755e-03, -3.07748690e-02,  2.61594411e-02,\n",
       "        -7.92072415e-02, -1.10334838e-02,  6.05838560e-02,\n",
       "        -1.82902757e-02, -8.23560804e-02,  1.70511547e-02,\n",
       "         2.53329296e-02, -6.19570576e-02,  4.43481915e-02,\n",
       "         3.27611342e-02, -4.29067127e-02,  2.31834911e-02,\n",
       "        -1.03725400e-02, -2.57974938e-02, -3.61249708e-02,\n",
       "         5.01445159e-02,  1.12103838e-02,  6.73557967e-02,\n",
       "         5.28069660e-02, -7.07715079e-02, -1.43820988e-02,\n",
       "         4.02216502e-02,  5.82853444e-02,  2.39690039e-02,\n",
       "         1.26823096e-03,  5.57603547e-03,  4.08764668e-02,\n",
       "        -3.17076854e-02, -3.98029052e-02,  2.96807978e-02,\n",
       "        -3.45750786e-02, -5.48744909e-02, -2.14657430e-02,\n",
       "        -3.32219750e-02,  2.09335852e-02,  3.47197987e-02,\n",
       "         5.61681613e-02,  1.70784835e-02,  7.20450329e-03,\n",
       "         3.12984809e-02,  3.72998118e-02,  6.38051555e-02,\n",
       "        -3.66305374e-02,  1.27647305e-02,  3.43570113e-02,\n",
       "         1.88463088e-02, -4.95895855e-02,  3.75398472e-02,\n",
       "         3.26887667e-02, -5.29459678e-02,  9.69290175e-03,\n",
       "        -5.00764549e-02,  3.38361263e-02,  1.56226596e-02,\n",
       "         5.04937805e-02,  1.25984633e-02,  5.20864921e-03,\n",
       "         1.95982158e-02,  2.56241765e-03,  4.14497592e-02,\n",
       "         1.92530956e-02, -4.75597288e-03,  4.41900454e-02,\n",
       "         1.13025876e-02,  5.72791919e-02,  2.57264040e-02,\n",
       "         3.05748917e-02,  5.35250269e-03,  1.63594335e-02,\n",
       "        -3.04440334e-02, -8.02854728e-03, -2.82922629e-02,\n",
       "         3.40217128e-02, -9.19099618e-03, -1.30476058e-02,\n",
       "        -6.64298683e-02, -4.15969789e-02, -1.66695882e-02,\n",
       "        -5.74220158e-02,  2.89030522e-02, -8.44185613e-03,\n",
       "        -6.22757971e-02, -1.53184002e-02,  7.88076408e-03,\n",
       "        -2.68727392e-02, -2.03506257e-02,  2.50924025e-02,\n",
       "        -2.16611698e-02, -1.24781867e-02,  5.12904711e-02,\n",
       "         3.82169597e-02,  2.91988682e-02,  2.77410261e-02,\n",
       "         2.75160708e-02,  3.76897901e-02, -6.64846152e-02,\n",
       "        -1.48137205e-03, -1.38659943e-02,  7.39604756e-02,\n",
       "         2.88537773e-03, -1.40303988e-02, -5.48661947e-02,\n",
       "         3.96872573e-02,  6.81868568e-02,  7.25369528e-02,\n",
       "        -4.33706529e-02,  3.48967463e-02, -8.34207144e-03,\n",
       "         2.46805530e-02,  4.30884622e-02,  1.98286641e-02,\n",
       "         9.05110035e-03, -6.77143410e-02, -3.03992536e-02,\n",
       "         1.04622461e-03, -3.55216973e-02,  5.58558665e-02,\n",
       "        -1.94351934e-02,  3.34301032e-02, -7.43697863e-03,\n",
       "        -1.26641551e-02, -1.07566211e-02,  1.61364675e-02,\n",
       "        -1.08430078e-02, -3.13985236e-02,  9.60591994e-03,\n",
       "         1.08133368e-02, -4.29619960e-02, -5.43090329e-02,\n",
       "        -3.75002474e-02, -7.95069337e-03,  2.27672458e-02,\n",
       "        -3.56452689e-02,  3.14858891e-02,  5.89938648e-03,\n",
       "         2.49619819e-02,  2.27824394e-02, -3.17904018e-02,\n",
       "        -3.48062851e-02, -1.53709799e-02, -1.90555062e-02,\n",
       "        -1.12966277e-01, -2.43831635e-03,  2.43199002e-02,\n",
       "        -9.18447133e-03,  1.72922928e-02, -1.27705466e-02,\n",
       "        -2.62619997e-03, -1.88575108e-02, -2.69636903e-02,\n",
       "        -4.41386783e-03, -1.75160374e-02, -2.99855769e-02]], dtype=float32)"
      ]
     },
     "execution_count": 14,
     "metadata": {},
     "output_type": "execute_result"
    }
   ],
   "source": [
    "svec"
   ]
  },
  {
   "cell_type": "code",
   "execution_count": 15,
   "metadata": {},
   "outputs": [],
   "source": [
    "distances, indexes = index.search(svec, k=2)"
   ]
  },
  {
   "cell_type": "code",
   "execution_count": 16,
   "metadata": {},
   "outputs": [
    {
     "data": {
      "text/plain": [
       "array([[6, 7]], dtype=int64)"
      ]
     },
     "execution_count": 16,
     "metadata": {},
     "output_type": "execute_result"
    }
   ],
   "source": [
    "indexes"
   ]
  },
  {
   "cell_type": "code",
   "execution_count": 17,
   "metadata": {},
   "outputs": [
    {
     "data": {
      "text/html": [
       "<div>\n",
       "<style scoped>\n",
       "    .dataframe tbody tr th:only-of-type {\n",
       "        vertical-align: middle;\n",
       "    }\n",
       "\n",
       "    .dataframe tbody tr th {\n",
       "        vertical-align: top;\n",
       "    }\n",
       "\n",
       "    .dataframe thead th {\n",
       "        text-align: right;\n",
       "    }\n",
       "</style>\n",
       "<table border=\"1\" class=\"dataframe\">\n",
       "  <thead>\n",
       "    <tr style=\"text-align: right;\">\n",
       "      <th></th>\n",
       "      <th>text</th>\n",
       "      <th>category</th>\n",
       "    </tr>\n",
       "  </thead>\n",
       "  <tbody>\n",
       "    <tr>\n",
       "      <th>6</th>\n",
       "      <td>Exciting vacation destinations for your next trip</td>\n",
       "      <td>Travel</td>\n",
       "    </tr>\n",
       "    <tr>\n",
       "      <th>7</th>\n",
       "      <td>Maldives and Srilanka are gaining popularity in terms of low budget vacation places</td>\n",
       "      <td>Travel</td>\n",
       "    </tr>\n",
       "  </tbody>\n",
       "</table>\n",
       "</div>"
      ],
      "text/plain": [
       "                                                                                  text  \\\n",
       "6                                    Exciting vacation destinations for your next trip   \n",
       "7  Maldives and Srilanka are gaining popularity in terms of low budget vacation places   \n",
       "\n",
       "  category  \n",
       "6   Travel  \n",
       "7   Travel  "
      ]
     },
     "execution_count": 17,
     "metadata": {},
     "output_type": "execute_result"
    }
   ],
   "source": [
    "df.loc[indexes[0]]"
   ]
  },
  {
   "cell_type": "code",
   "execution_count": 18,
   "metadata": {},
   "outputs": [
    {
     "data": {
      "text/html": [
       "<div>\n",
       "<style scoped>\n",
       "    .dataframe tbody tr th:only-of-type {\n",
       "        vertical-align: middle;\n",
       "    }\n",
       "\n",
       "    .dataframe tbody tr th {\n",
       "        vertical-align: top;\n",
       "    }\n",
       "\n",
       "    .dataframe thead th {\n",
       "        text-align: right;\n",
       "    }\n",
       "</style>\n",
       "<table border=\"1\" class=\"dataframe\">\n",
       "  <thead>\n",
       "    <tr style=\"text-align: right;\">\n",
       "      <th></th>\n",
       "      <th>text</th>\n",
       "      <th>category</th>\n",
       "    </tr>\n",
       "  </thead>\n",
       "  <tbody>\n",
       "    <tr>\n",
       "      <th>6</th>\n",
       "      <td>Exciting vacation destinations for your next trip</td>\n",
       "      <td>Travel</td>\n",
       "    </tr>\n",
       "    <tr>\n",
       "      <th>7</th>\n",
       "      <td>Maldives and Srilanka are gaining popularity in terms of low budget vacation places</td>\n",
       "      <td>Travel</td>\n",
       "    </tr>\n",
       "  </tbody>\n",
       "</table>\n",
       "</div>"
      ],
      "text/plain": [
       "                                                                                  text  \\\n",
       "6                                    Exciting vacation destinations for your next trip   \n",
       "7  Maldives and Srilanka are gaining popularity in terms of low budget vacation places   \n",
       "\n",
       "  category  \n",
       "6   Travel  \n",
       "7   Travel  "
      ]
     },
     "execution_count": 18,
     "metadata": {},
     "output_type": "execute_result"
    }
   ],
   "source": [
    "df.loc[[6,7]]"
   ]
  },
  {
   "cell_type": "code",
   "execution_count": 19,
   "metadata": {},
   "outputs": [
    {
     "data": {
      "text/plain": [
       "'I want to go to the beach'"
      ]
     },
     "execution_count": 19,
     "metadata": {},
     "output_type": "execute_result"
    }
   ],
   "source": [
    "search_query"
   ]
  },
  {
   "cell_type": "code",
   "execution_count": 20,
   "metadata": {},
   "outputs": [
    {
     "data": {
      "text/html": [
       "<div>\n",
       "<style scoped>\n",
       "    .dataframe tbody tr th:only-of-type {\n",
       "        vertical-align: middle;\n",
       "    }\n",
       "\n",
       "    .dataframe tbody tr th {\n",
       "        vertical-align: top;\n",
       "    }\n",
       "\n",
       "    .dataframe thead th {\n",
       "        text-align: right;\n",
       "    }\n",
       "</style>\n",
       "<table border=\"1\" class=\"dataframe\">\n",
       "  <thead>\n",
       "    <tr style=\"text-align: right;\">\n",
       "      <th></th>\n",
       "      <th>text</th>\n",
       "      <th>category</th>\n",
       "    </tr>\n",
       "  </thead>\n",
       "  <tbody>\n",
       "    <tr>\n",
       "      <th>0</th>\n",
       "      <td>Meditation and yoga can improve mental health</td>\n",
       "      <td>Health</td>\n",
       "    </tr>\n",
       "    <tr>\n",
       "      <th>1</th>\n",
       "      <td>Fruits, whole grains and vegetables helps control blood pressure</td>\n",
       "      <td>Health</td>\n",
       "    </tr>\n",
       "    <tr>\n",
       "      <th>2</th>\n",
       "      <td>These are the latest fashion trends for this week</td>\n",
       "      <td>Fashion</td>\n",
       "    </tr>\n",
       "    <tr>\n",
       "      <th>3</th>\n",
       "      <td>Vibrant color jeans for male are becoming a trend</td>\n",
       "      <td>Fashion</td>\n",
       "    </tr>\n",
       "    <tr>\n",
       "      <th>4</th>\n",
       "      <td>The concert starts at 7 PM tonight</td>\n",
       "      <td>Event</td>\n",
       "    </tr>\n",
       "    <tr>\n",
       "      <th>5</th>\n",
       "      <td>Navaratri dandiya program at Expo center in Mumbai this october</td>\n",
       "      <td>Event</td>\n",
       "    </tr>\n",
       "    <tr>\n",
       "      <th>6</th>\n",
       "      <td>Exciting vacation destinations for your next trip</td>\n",
       "      <td>Travel</td>\n",
       "    </tr>\n",
       "    <tr>\n",
       "      <th>7</th>\n",
       "      <td>Maldives and Srilanka are gaining popularity in terms of low budget vacation places</td>\n",
       "      <td>Travel</td>\n",
       "    </tr>\n",
       "  </tbody>\n",
       "</table>\n",
       "</div>"
      ],
      "text/plain": [
       "                                                                                  text  \\\n",
       "0                                        Meditation and yoga can improve mental health   \n",
       "1                     Fruits, whole grains and vegetables helps control blood pressure   \n",
       "2                                    These are the latest fashion trends for this week   \n",
       "3                                    Vibrant color jeans for male are becoming a trend   \n",
       "4                                                   The concert starts at 7 PM tonight   \n",
       "5                      Navaratri dandiya program at Expo center in Mumbai this october   \n",
       "6                                    Exciting vacation destinations for your next trip   \n",
       "7  Maldives and Srilanka are gaining popularity in terms of low budget vacation places   \n",
       "\n",
       "  category  \n",
       "0   Health  \n",
       "1   Health  \n",
       "2  Fashion  \n",
       "3  Fashion  \n",
       "4    Event  \n",
       "5    Event  \n",
       "6   Travel  \n",
       "7   Travel  "
      ]
     },
     "execution_count": 20,
     "metadata": {},
     "output_type": "execute_result"
    }
   ],
   "source": [
    "df"
   ]
  },
  {
   "cell_type": "markdown",
   "metadata": {},
   "source": [
    "### faiss-gpu"
   ]
  },
  {
   "cell_type": "code",
   "execution_count": 21,
   "metadata": {},
   "outputs": [
    {
     "name": "stdout",
     "output_type": "stream",
     "text": [
      "1\n"
     ]
    }
   ],
   "source": [
    "import faiss\n",
    "\n",
    "# For GPU\n",
    "print(faiss.get_num_gpus())"
   ]
  },
  {
   "cell_type": "code",
   "execution_count": 22,
   "metadata": {},
   "outputs": [],
   "source": [
    "# Inisialisasi resources GPU\n",
    "resources = faiss.StandardGpuResources()"
   ]
  },
  {
   "cell_type": "code",
   "execution_count": 23,
   "metadata": {},
   "outputs": [
    {
     "name": "stdout",
     "output_type": "stream",
     "text": [
      "<faiss.swigfaiss.GpuIndexFlat; proxy of <Swig Object of type 'faiss::gpu::GpuIndexFlat *' at 0x000001921F4D2850> >\n"
     ]
    },
    {
     "data": {
      "text/plain": [
       "<faiss.swigfaiss.GpuIndexFlat; proxy of <Swig Object of type 'faiss::gpu::GpuIndexFlat *' at 0x000001921F326280> >"
      ]
     },
     "execution_count": 23,
     "metadata": {},
     "output_type": "execute_result"
    }
   ],
   "source": [
    "index = faiss.IndexFlatL2(dim)\n",
    "\n",
    "# One GPU\n",
    "gpu_index_1 = faiss.index_cpu_to_gpu(provider=resources, device=0, index=index)\n",
    "print(gpu_index_1)\n",
    "\n",
    "# All GPU\n",
    "gpu_index_multi = faiss.index_cpu_to_all_gpus(index=index)\n",
    "gpu_index_multi"
   ]
  },
  {
   "cell_type": "code",
   "execution_count": 24,
   "metadata": {},
   "outputs": [],
   "source": [
    "gpu_index_multi.add(vectors)"
   ]
  },
  {
   "cell_type": "code",
   "execution_count": 25,
   "metadata": {},
   "outputs": [],
   "source": [
    "distances, indexes = gpu_index_multi.search(svec, k=2)"
   ]
  },
  {
   "cell_type": "code",
   "execution_count": 26,
   "metadata": {},
   "outputs": [
    {
     "data": {
      "text/plain": [
       "array([[6, 7]], dtype=int64)"
      ]
     },
     "execution_count": 26,
     "metadata": {},
     "output_type": "execute_result"
    }
   ],
   "source": [
    "indexes"
   ]
  },
  {
   "cell_type": "code",
   "execution_count": 27,
   "metadata": {},
   "outputs": [
    {
     "data": {
      "text/html": [
       "<div>\n",
       "<style scoped>\n",
       "    .dataframe tbody tr th:only-of-type {\n",
       "        vertical-align: middle;\n",
       "    }\n",
       "\n",
       "    .dataframe tbody tr th {\n",
       "        vertical-align: top;\n",
       "    }\n",
       "\n",
       "    .dataframe thead th {\n",
       "        text-align: right;\n",
       "    }\n",
       "</style>\n",
       "<table border=\"1\" class=\"dataframe\">\n",
       "  <thead>\n",
       "    <tr style=\"text-align: right;\">\n",
       "      <th></th>\n",
       "      <th>text</th>\n",
       "      <th>category</th>\n",
       "    </tr>\n",
       "  </thead>\n",
       "  <tbody>\n",
       "    <tr>\n",
       "      <th>6</th>\n",
       "      <td>Exciting vacation destinations for your next trip</td>\n",
       "      <td>Travel</td>\n",
       "    </tr>\n",
       "    <tr>\n",
       "      <th>7</th>\n",
       "      <td>Maldives and Srilanka are gaining popularity in terms of low budget vacation places</td>\n",
       "      <td>Travel</td>\n",
       "    </tr>\n",
       "  </tbody>\n",
       "</table>\n",
       "</div>"
      ],
      "text/plain": [
       "                                                                                  text  \\\n",
       "6                                    Exciting vacation destinations for your next trip   \n",
       "7  Maldives and Srilanka are gaining popularity in terms of low budget vacation places   \n",
       "\n",
       "  category  \n",
       "6   Travel  \n",
       "7   Travel  "
      ]
     },
     "execution_count": 27,
     "metadata": {},
     "output_type": "execute_result"
    }
   ],
   "source": [
    "df.loc[indexes[0]]"
   ]
  },
  {
   "cell_type": "code",
   "execution_count": null,
   "metadata": {},
   "outputs": [],
   "source": []
  }
 ],
 "metadata": {
  "kernelspec": {
   "display_name": "LLMEnv",
   "language": "python",
   "name": "python3"
  },
  "language_info": {
   "codemirror_mode": {
    "name": "ipython",
    "version": 3
   },
   "file_extension": ".py",
   "mimetype": "text/x-python",
   "name": "python",
   "nbconvert_exporter": "python",
   "pygments_lexer": "ipython3",
   "version": "3.10.16"
  }
 },
 "nbformat": 4,
 "nbformat_minor": 2
}
