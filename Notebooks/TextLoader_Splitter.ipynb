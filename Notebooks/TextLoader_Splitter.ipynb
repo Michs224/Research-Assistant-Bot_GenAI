{
 "cells": [
  {
   "cell_type": "code",
   "execution_count": 28,
   "metadata": {},
   "outputs": [],
   "source": [
    "from langchain_community.document_loaders import TextLoader"
   ]
  },
  {
   "cell_type": "code",
   "execution_count": 29,
   "metadata": {},
   "outputs": [],
   "source": [
    "loader = TextLoader(file_path='./nvda_news.txt')\n",
    "data = loader.load()"
   ]
  },
  {
   "cell_type": "code",
   "execution_count": 30,
   "metadata": {},
   "outputs": [
    {
     "data": {
      "text/plain": [
       "[Document(metadata={'source': './nvda_news.txt'}, page_content=\"The stock of NVIDIA Corp (NASDAQ:NVDA) experienced a daily loss of -3.56% and a 3-month gain of 32.35%. With an Earnings Per Share (EPS) (EPS) of $1.92, the question arises: is the stock significantly overvalued? This article aims to provide a detailed valuation analysis of NVIDIA, offering insights into its financial strength, profitability, growth, and more. We invite you to delve into this comprehensive analysis.\\n\\nCompany Overview\\nWarning! GuruFocus has detected 10 Warning Signs with NVDA. Click here to check it out.\\n\\nNVDA 30-Year Financial Data\\n\\nThe intrinsic value of NVDA\\n\\n\\nNVIDIA Corp (NASDAQ:NVDA) is a leading designer of discrete graphics processing units that enhance the experience on computing platforms. The firm's chips are widely used in various end markets, including PC gaming and data centers. In recent years, NVIDIA has broadened its focus from traditional PC graphics applications such as gaming to more complex and favorable opportunities, including artificial intelligence and autonomous driving, leveraging the high-performance capabilities of its products.\\n\\nCurrently, NVIDIA's stock price stands at $418.01, significantly higher than the GF Value of $310.28, indicating the stock might be overvalued. With a market cap of $1 trillion, the valuation seems steep. The following analysis aims to delve deeper into the company's value.\\n\\nIs NVIDIA's Stock Significantly Overvalued? A Comprehensive Valuation Analysis\\nIs NVIDIA's Stock Significantly Overvalued? A Comprehensive Valuation Analysis\\nUnderstanding the GF Value\\nThe GF Value is a unique measure of the intrinsic value of a stock, calculated based on historical trading multiples, a GuruFocus adjustment factor, and future business performance estimates. If the stock price is significantly above the GF Value Line, it is overvalued, and its future return is likely to be poor. Conversely, if it is significantly below the GF Value Line, its future return will likely be higher.\\n\\nAccording to GuruFocus Value calculation, NVIDIA (NASDAQ:NVDA) appears to be significantly overvalued. The stock's current price of $418.01 per share and the market cap of $1 trillion further strengthen this assumption.\\n\\nGiven that NVIDIA is significantly overvalued, the long-term return of its stock is likely to be much lower than its future business growth.\\n\\nIs NVIDIA's Stock Significantly Overvalued? A Comprehensive Valuation Analysis\\nIs NVIDIA's Stock Significantly Overvalued? A Comprehensive Valuation Analysis\\nLink: These companies may deliver higher future returns at reduced risk.\\n\\nFinancial Strength of NVIDIA\\nExamining the financial strength of a company is crucial before investing in its stock. Companies with poor financial strength pose a higher risk of permanent loss. NVIDIA's cash-to-debt ratio of 1.27 is worse than 58.04% of companies in the Semiconductors industry. However, NVIDIA's overall financial strength is 8 out of 10, indicating a strong financial position.\\n\\nIs NVIDIA's Stock Significantly Overvalued? A Comprehensive Valuation Analysis\\nIs NVIDIA's Stock Significantly Overvalued? A Comprehensive Valuation Analysis\\nProfitability and Growth\\nConsistent profitability over the long term reduces the risk for investors. NVIDIA, with its profitability ranking of 10 out of 10, has been profitable for the past 10 years. The company's operating margin of 17.37% ranks better than 76.5% of companies in the Semiconductors industry.\\n\\nHowever, growth is a crucial factor in a company's valuation. NVIDIA's growth ranks worse than 52.99% of companies in the Semiconductors industry, with its 3-year average revenue growth rate better than 87.88% of companies in the industry.\\n\\nROIC vs WACC\\nComparing a company's return on invested capital (ROIC) to its weighted average cost of capital (WACC) is an effective way to evaluate its profitability. Over the past 12 months, NVIDIA's ROIC was 20.32 while its WACC was 16.74, suggesting that the company is creating value for its shareholders.\\n\\nIs NVIDIA's Stock Significantly Overvalued? A Comprehensive Valuation Analysis\\nIs NVIDIA's Stock Significantly Overvalued? A Comprehensive Valuation Analysis\\nConclusion\\nIn conclusion, NVIDIA (NASDAQ:NVDA) appears to be significantly overvalued. Despite its strong financial condition and profitability, its growth ranks lower than 52.99% of companies in the Semiconductors industry. To learn more about NVIDIA stock, you can check out its 30-Year Financials here.\\n\\nTo find out the high quality companies that may deliver above-average returns, please check out GuruFocus High Quality Low Capex Screener.\\n\\nThis article first appeared on GuruFocus.\")]"
      ]
     },
     "execution_count": 30,
     "metadata": {},
     "output_type": "execute_result"
    }
   ],
   "source": [
    "data"
   ]
  },
  {
   "cell_type": "code",
   "execution_count": 31,
   "metadata": {},
   "outputs": [
    {
     "data": {
      "text/plain": [
       "(langchain_core.documents.base.Document,\n",
       " Document(metadata={'source': './nvda_news.txt'}, page_content=\"The stock of NVIDIA Corp (NASDAQ:NVDA) experienced a daily loss of -3.56% and a 3-month gain of 32.35%. With an Earnings Per Share (EPS) (EPS) of $1.92, the question arises: is the stock significantly overvalued? This article aims to provide a detailed valuation analysis of NVIDIA, offering insights into its financial strength, profitability, growth, and more. We invite you to delve into this comprehensive analysis.\\n\\nCompany Overview\\nWarning! GuruFocus has detected 10 Warning Signs with NVDA. Click here to check it out.\\n\\nNVDA 30-Year Financial Data\\n\\nThe intrinsic value of NVDA\\n\\n\\nNVIDIA Corp (NASDAQ:NVDA) is a leading designer of discrete graphics processing units that enhance the experience on computing platforms. The firm's chips are widely used in various end markets, including PC gaming and data centers. In recent years, NVIDIA has broadened its focus from traditional PC graphics applications such as gaming to more complex and favorable opportunities, including artificial intelligence and autonomous driving, leveraging the high-performance capabilities of its products.\\n\\nCurrently, NVIDIA's stock price stands at $418.01, significantly higher than the GF Value of $310.28, indicating the stock might be overvalued. With a market cap of $1 trillion, the valuation seems steep. The following analysis aims to delve deeper into the company's value.\\n\\nIs NVIDIA's Stock Significantly Overvalued? A Comprehensive Valuation Analysis\\nIs NVIDIA's Stock Significantly Overvalued? A Comprehensive Valuation Analysis\\nUnderstanding the GF Value\\nThe GF Value is a unique measure of the intrinsic value of a stock, calculated based on historical trading multiples, a GuruFocus adjustment factor, and future business performance estimates. If the stock price is significantly above the GF Value Line, it is overvalued, and its future return is likely to be poor. Conversely, if it is significantly below the GF Value Line, its future return will likely be higher.\\n\\nAccording to GuruFocus Value calculation, NVIDIA (NASDAQ:NVDA) appears to be significantly overvalued. The stock's current price of $418.01 per share and the market cap of $1 trillion further strengthen this assumption.\\n\\nGiven that NVIDIA is significantly overvalued, the long-term return of its stock is likely to be much lower than its future business growth.\\n\\nIs NVIDIA's Stock Significantly Overvalued? A Comprehensive Valuation Analysis\\nIs NVIDIA's Stock Significantly Overvalued? A Comprehensive Valuation Analysis\\nLink: These companies may deliver higher future returns at reduced risk.\\n\\nFinancial Strength of NVIDIA\\nExamining the financial strength of a company is crucial before investing in its stock. Companies with poor financial strength pose a higher risk of permanent loss. NVIDIA's cash-to-debt ratio of 1.27 is worse than 58.04% of companies in the Semiconductors industry. However, NVIDIA's overall financial strength is 8 out of 10, indicating a strong financial position.\\n\\nIs NVIDIA's Stock Significantly Overvalued? A Comprehensive Valuation Analysis\\nIs NVIDIA's Stock Significantly Overvalued? A Comprehensive Valuation Analysis\\nProfitability and Growth\\nConsistent profitability over the long term reduces the risk for investors. NVIDIA, with its profitability ranking of 10 out of 10, has been profitable for the past 10 years. The company's operating margin of 17.37% ranks better than 76.5% of companies in the Semiconductors industry.\\n\\nHowever, growth is a crucial factor in a company's valuation. NVIDIA's growth ranks worse than 52.99% of companies in the Semiconductors industry, with its 3-year average revenue growth rate better than 87.88% of companies in the industry.\\n\\nROIC vs WACC\\nComparing a company's return on invested capital (ROIC) to its weighted average cost of capital (WACC) is an effective way to evaluate its profitability. Over the past 12 months, NVIDIA's ROIC was 20.32 while its WACC was 16.74, suggesting that the company is creating value for its shareholders.\\n\\nIs NVIDIA's Stock Significantly Overvalued? A Comprehensive Valuation Analysis\\nIs NVIDIA's Stock Significantly Overvalued? A Comprehensive Valuation Analysis\\nConclusion\\nIn conclusion, NVIDIA (NASDAQ:NVDA) appears to be significantly overvalued. Despite its strong financial condition and profitability, its growth ranks lower than 52.99% of companies in the Semiconductors industry. To learn more about NVIDIA stock, you can check out its 30-Year Financials here.\\n\\nTo find out the high quality companies that may deliver above-average returns, please check out GuruFocus High Quality Low Capex Screener.\\n\\nThis article first appeared on GuruFocus.\"))"
      ]
     },
     "execution_count": 31,
     "metadata": {},
     "output_type": "execute_result"
    }
   ],
   "source": [
    "type(data[0]), data[0]"
   ]
  },
  {
   "cell_type": "code",
   "execution_count": 32,
   "metadata": {},
   "outputs": [
    {
     "data": {
      "text/plain": [
       "\"The stock of NVIDIA Corp (NASDAQ:NVDA) experienced a daily loss of -3.56% and a 3-month gain of 32.35%. With an Earnings Per Share (EPS) (EPS) of $1.92, the question arises: is the stock significantly overvalued? This article aims to provide a detailed valuation analysis of NVIDIA, offering insights into its financial strength, profitability, growth, and more. We invite you to delve into this comprehensive analysis.\\n\\nCompany Overview\\nWarning! GuruFocus has detected 10 Warning Signs with NVDA. Click here to check it out.\\n\\nNVDA 30-Year Financial Data\\n\\nThe intrinsic value of NVDA\\n\\n\\nNVIDIA Corp (NASDAQ:NVDA) is a leading designer of discrete graphics processing units that enhance the experience on computing platforms. The firm's chips are widely used in various end markets, including PC gaming and data centers. In recent years, NVIDIA has broadened its focus from traditional PC graphics applications such as gaming to more complex and favorable opportunities, including artificial intelligence and autonomous driving, leveraging the high-performance capabilities of its products.\\n\\nCurrently, NVIDIA's stock price stands at $418.01, significantly higher than the GF Value of $310.28, indicating the stock might be overvalued. With a market cap of $1 trillion, the valuation seems steep. The following analysis aims to delve deeper into the company's value.\\n\\nIs NVIDIA's Stock Significantly Overvalued? A Comprehensive Valuation Analysis\\nIs NVIDIA's Stock Significantly Overvalued? A Comprehensive Valuation Analysis\\nUnderstanding the GF Value\\nThe GF Value is a unique measure of the intrinsic value of a stock, calculated based on historical trading multiples, a GuruFocus adjustment factor, and future business performance estimates. If the stock price is significantly above the GF Value Line, it is overvalued, and its future return is likely to be poor. Conversely, if it is significantly below the GF Value Line, its future return will likely be higher.\\n\\nAccording to GuruFocus Value calculation, NVIDIA (NASDAQ:NVDA) appears to be significantly overvalued. The stock's current price of $418.01 per share and the market cap of $1 trillion further strengthen this assumption.\\n\\nGiven that NVIDIA is significantly overvalued, the long-term return of its stock is likely to be much lower than its future business growth.\\n\\nIs NVIDIA's Stock Significantly Overvalued? A Comprehensive Valuation Analysis\\nIs NVIDIA's Stock Significantly Overvalued? A Comprehensive Valuation Analysis\\nLink: These companies may deliver higher future returns at reduced risk.\\n\\nFinancial Strength of NVIDIA\\nExamining the financial strength of a company is crucial before investing in its stock. Companies with poor financial strength pose a higher risk of permanent loss. NVIDIA's cash-to-debt ratio of 1.27 is worse than 58.04% of companies in the Semiconductors industry. However, NVIDIA's overall financial strength is 8 out of 10, indicating a strong financial position.\\n\\nIs NVIDIA's Stock Significantly Overvalued? A Comprehensive Valuation Analysis\\nIs NVIDIA's Stock Significantly Overvalued? A Comprehensive Valuation Analysis\\nProfitability and Growth\\nConsistent profitability over the long term reduces the risk for investors. NVIDIA, with its profitability ranking of 10 out of 10, has been profitable for the past 10 years. The company's operating margin of 17.37% ranks better than 76.5% of companies in the Semiconductors industry.\\n\\nHowever, growth is a crucial factor in a company's valuation. NVIDIA's growth ranks worse than 52.99% of companies in the Semiconductors industry, with its 3-year average revenue growth rate better than 87.88% of companies in the industry.\\n\\nROIC vs WACC\\nComparing a company's return on invested capital (ROIC) to its weighted average cost of capital (WACC) is an effective way to evaluate its profitability. Over the past 12 months, NVIDIA's ROIC was 20.32 while its WACC was 16.74, suggesting that the company is creating value for its shareholders.\\n\\nIs NVIDIA's Stock Significantly Overvalued? A Comprehensive Valuation Analysis\\nIs NVIDIA's Stock Significantly Overvalued? A Comprehensive Valuation Analysis\\nConclusion\\nIn conclusion, NVIDIA (NASDAQ:NVDA) appears to be significantly overvalued. Despite its strong financial condition and profitability, its growth ranks lower than 52.99% of companies in the Semiconductors industry. To learn more about NVIDIA stock, you can check out its 30-Year Financials here.\\n\\nTo find out the high quality companies that may deliver above-average returns, please check out GuruFocus High Quality Low Capex Screener.\\n\\nThis article first appeared on GuruFocus.\""
      ]
     },
     "execution_count": 32,
     "metadata": {},
     "output_type": "execute_result"
    }
   ],
   "source": [
    "data[0].page_content"
   ]
  },
  {
   "cell_type": "code",
   "execution_count": 33,
   "metadata": {},
   "outputs": [
    {
     "data": {
      "text/plain": [
       "9"
      ]
     },
     "execution_count": 33,
     "metadata": {},
     "output_type": "execute_result"
    }
   ],
   "source": [
    "from langchain_community.document_loaders import CSVLoader\n",
    "\n",
    "loader = CSVLoader(file_path='./movies.csv', source_column='title')\n",
    "data = loader.load()\n",
    "len(data)"
   ]
  },
  {
   "cell_type": "code",
   "execution_count": 34,
   "metadata": {},
   "outputs": [
    {
     "data": {
      "text/plain": [
       "[Document(metadata={'source': 'K.G.F: Chapter 2', 'row': 0}, page_content='movie_id: 101\\ntitle: K.G.F: Chapter 2\\nindustry: Bollywood\\nrelease_year: 2022\\nimdb_rating: 8.4\\nstudio: Hombale Films\\nlanguage_id: 3\\nbudget: 1\\nrevenue: 12.5\\nunit: Billions\\ncurrency: INR'),\n",
       " Document(metadata={'source': 'Doctor Strange in the Multiverse of Madness', 'row': 1}, page_content='movie_id: 102\\ntitle: Doctor Strange in the Multiverse of Madness\\nindustry: Hollywood\\nrelease_year: 2022\\nimdb_rating: 7\\nstudio: Marvel Studios\\nlanguage_id: 5\\nbudget: 200\\nrevenue: 954.8\\nunit: Millions\\ncurrency: USD'),\n",
       " Document(metadata={'source': 'Thor: The Dark World', 'row': 2}, page_content='movie_id: 103\\ntitle: Thor: The Dark World\\nindustry: Hollywood\\nrelease_year: 2013\\nimdb_rating: 6.8\\nstudio: Marvel Studios\\nlanguage_id: 5\\nbudget: 165\\nrevenue: 644.8\\nunit: Millions\\ncurrency: USD'),\n",
       " Document(metadata={'source': 'Thor: Ragnarok', 'row': 3}, page_content='movie_id: 104\\ntitle: Thor: Ragnarok\\nindustry: Hollywood\\nrelease_year: 2017\\nimdb_rating: 7.9\\nstudio: Marvel Studios\\nlanguage_id: 5\\nbudget: 180\\nrevenue: 854\\nunit: Millions\\ncurrency: USD'),\n",
       " Document(metadata={'source': 'Thor: Love and Thunder', 'row': 4}, page_content='movie_id: 105\\ntitle: Thor: Love and Thunder\\nindustry: Hollywood\\nrelease_year: 2022\\nimdb_rating: 6.8\\nstudio: Marvel Studios\\nlanguage_id: 5\\nbudget: 250\\nrevenue: 670\\nunit: Millions\\ncurrency: USD'),\n",
       " Document(metadata={'source': 'Sholay', 'row': 5}, page_content='movie_id: 106\\ntitle: Sholay\\nindustry: Bollywood\\nrelease_year: 1975\\nimdb_rating: 8.1\\nstudio: United Producers\\nlanguage_id: 1\\nbudget: Not Available\\nrevenue: Not Available\\nunit: Not Available\\ncurrency: Not Available'),\n",
       " Document(metadata={'source': 'Dilwale Dulhania Le Jayenge', 'row': 6}, page_content='movie_id: 107\\ntitle: Dilwale Dulhania Le Jayenge\\nindustry: Bollywood\\nrelease_year: 1995\\nimdb_rating: 8\\nstudio: Yash Raj Films\\nlanguage_id: 1\\nbudget: 400\\nrevenue: 2000\\nunit: Millions\\ncurrency: INR'),\n",
       " Document(metadata={'source': '3 Idiots', 'row': 7}, page_content='movie_id: 108\\ntitle: 3 Idiots\\nindustry: Bollywood\\nrelease_year: 2009\\nimdb_rating: 8.4\\nstudio: Vinod Chopra Films\\nlanguage_id: 1\\nbudget: 550\\nrevenue: 4000\\nunit: Millions\\ncurrency: INR'),\n",
       " Document(metadata={'source': 'Kabhi Khushi Kabhie Gham', 'row': 8}, page_content='movie_id: 109\\ntitle: Kabhi Khushi Kabhie Gham\\nindustry: Bollywood\\nrelease_year: 2001\\nimdb_rating: 7.4\\nstudio: Dharma Productions\\nlanguage_id: 1\\nbudget: 390\\nrevenue: 1360\\nunit: Millions\\ncurrency: INR')]"
      ]
     },
     "execution_count": 34,
     "metadata": {},
     "output_type": "execute_result"
    }
   ],
   "source": [
    "data"
   ]
  },
  {
   "cell_type": "code",
   "execution_count": 35,
   "metadata": {},
   "outputs": [
    {
     "data": {
      "text/plain": [
       "(langchain_core.documents.base.Document,\n",
       " Document(metadata={'source': 'K.G.F: Chapter 2', 'row': 0}, page_content='movie_id: 101\\ntitle: K.G.F: Chapter 2\\nindustry: Bollywood\\nrelease_year: 2022\\nimdb_rating: 8.4\\nstudio: Hombale Films\\nlanguage_id: 3\\nbudget: 1\\nrevenue: 12.5\\nunit: Billions\\ncurrency: INR'))"
      ]
     },
     "execution_count": 35,
     "metadata": {},
     "output_type": "execute_result"
    }
   ],
   "source": [
    "type(data[0]), data[0]"
   ]
  },
  {
   "cell_type": "code",
   "execution_count": 36,
   "metadata": {},
   "outputs": [
    {
     "data": {
      "text/plain": [
       "'movie_id: 101\\ntitle: K.G.F: Chapter 2\\nindustry: Bollywood\\nrelease_year: 2022\\nimdb_rating: 8.4\\nstudio: Hombale Films\\nlanguage_id: 3\\nbudget: 1\\nrevenue: 12.5\\nunit: Billions\\ncurrency: INR'"
      ]
     },
     "execution_count": 36,
     "metadata": {},
     "output_type": "execute_result"
    }
   ],
   "source": [
    "data[0].page_content"
   ]
  },
  {
   "cell_type": "code",
   "execution_count": 37,
   "metadata": {},
   "outputs": [
    {
     "data": {
      "text/plain": [
       "({'source': 'K.G.F: Chapter 2', 'row': 0},\n",
       " {'source': 'Doctor Strange in the Multiverse of Madness', 'row': 1})"
      ]
     },
     "execution_count": 37,
     "metadata": {},
     "output_type": "execute_result"
    }
   ],
   "source": [
    "data[0].metadata, data[1].metadata"
   ]
  },
  {
   "cell_type": "code",
   "execution_count": 38,
   "metadata": {},
   "outputs": [],
   "source": [
    "from langchain.document_loaders import UnstructuredURLLoader"
   ]
  },
  {
   "cell_type": "code",
   "execution_count": 39,
   "metadata": {},
   "outputs": [],
   "source": [
    "loader = UnstructuredURLLoader(urls=[\n",
    "    'https://www.pharmacytimes.com/view/kraken-trial-highlights-muvalaplin-s-efficacy-safety-in-reducing-lipoprotein-a-',\n",
    "    'https://link.springer.com/article/10.1007/s11096-023-01658-x'\n",
    "])"
   ]
  },
  {
   "cell_type": "code",
   "execution_count": 40,
   "metadata": {},
   "outputs": [
    {
     "data": {
      "text/plain": [
       "2"
      ]
     },
     "execution_count": 40,
     "metadata": {},
     "output_type": "execute_result"
    }
   ],
   "source": [
    "data = loader.load()\n",
    "len(data)"
   ]
  },
  {
   "cell_type": "code",
   "execution_count": 41,
   "metadata": {},
   "outputs": [
    {
     "data": {
      "text/plain": [
       "{'source': 'https://link.springer.com/article/10.1007/s11096-023-01658-x'}"
      ]
     },
     "execution_count": 41,
     "metadata": {},
     "output_type": "execute_result"
    }
   ],
   "source": [
    "data[1].metadata"
   ]
  },
  {
   "cell_type": "code",
   "execution_count": 42,
   "metadata": {},
   "outputs": [
    {
     "name": "stdout",
     "output_type": "stream",
     "text": [
      "11197\n"
     ]
    }
   ],
   "source": [
    "print(len(data[0].page_content))"
   ]
  },
  {
   "cell_type": "code",
   "execution_count": 43,
   "metadata": {},
   "outputs": [],
   "source": [
    "from langchain_community.document_loaders import PyPDFLoader\n",
    "\n",
    "loader = PyPDFLoader(file_path='./s11096-023-01658-x.pdf', extract_images=True)\n",
    "data = loader.load()"
   ]
  },
  {
   "cell_type": "code",
   "execution_count": 44,
   "metadata": {},
   "outputs": [
    {
     "name": "stdout",
     "output_type": "stream",
     "text": [
      "page_content='65International Journal of Clinical Pharmacy (2024) 46:56–69 \n",
      "1 3\n",
      "profession’s approach to improving the use of medicines \n",
      "through collaboration with other healthcare professionals.\n",
      "Interpretation\n",
      "The content and focus of most of the guidelines related to \n",
      "services such as medication review, medicines reconciliation \n",
      "and medication management including provision of dispens-\n",
      "ing services and clinical checking. Most of the official bod-\n",
      "ies approving and releasing the guidelines were professional \n",
      "regulators, professional society bodies, Health Technology \n",
      "Assessment bodies and independent healthcare bodies. Only \n",
      "a small number of guidelines focused on person-centred \n",
      "care and clinical communication. There is scope to develop \n",
      "international guidelines that can assist best practices in the \n",
      "delivery of person-centred care and clinical communications \n",
      "considering the relevance of these activities to the range \n",
      "of clinical pharmacy services and potential for application \n",
      "across diverse settings and countries.\n",
      "Equity and patient-centred care are important aspects of \n",
      "healthcare, particularly at a time when migration and dis-\n",
      "placement of population groups has created multi-ethnic \n",
      "societies all around the world, and ageing populations are \n",
      "leading to an increasing proportion of citizens dependent \n",
      "upon health and social care services. The results identified \n",
      "that while 20 of the 38 guidelines endorsed the involvement \n",
      "of family and carers, only a few emphasised on providing \n",
      "culturally sensitive information (n = 4) or consideration of \n",
      "people with physical, sensory, or learning disabilities (n = 6). \n",
      "Allied to this, only a minority (n = 6) addressed applicability \n",
      "Table 3  (continued)\n",
      "Guideline Domain 1 (%) Domain 2 (%) Domain 3 (%) Domain 4 (%) Domain 5 (%) Domain 6 (%) Overall \n",
      "quality\n",
      "(1–7)\n",
      "Recommendation of use\n",
      "[52] 100 100 77 85.7 64.2 85.7 6 Recommended\n",
      "[53] 100 100 80.4 76.1 60.7 64.3 6 Recommended\n",
      "[54] 76.1 52.3 53.5 57.1 35.7 57.1 4 Recommended with \n",
      "modification\n",
      "[55] 71.4 80.9 48.2 66.6 75.0 47.6 4 Recommended with \n",
      "modification\n",
      "Domain 1: Scope and purpose; Domain 2: Stakeholder involvement; Domain 3: Rigour of development; Domain 4: Clarity of presentation; \n",
      "Domain 5: Applicability; Domain 6: Editorial independence\n",
      "Fig.2  Scores obtained from each domain of AGREE II tool. Domain 1: scope and purpose; Domain 2: stakeholder involvement; Domain 3: rig-\n",
      "our of development; Domain 4: clarity of presentation; Domain 5: applicability; Domain 6: editorial independence100\n",
      "90\n",
      "80\n",
      "70\n",
      "60\n",
      "50\n",
      "40\n",
      "30\n",
      "20\n",
      "10\n",
      "Domain1\n",
      "Domain2\n",
      "Domain3\n",
      "Domain4\n",
      "Domain5\n",
      "Domain6' metadata={'source': './s11096-023-01658-x.pdf', 'page': 9}\n"
     ]
    }
   ],
   "source": [
    "print(data[9])"
   ]
  },
  {
   "cell_type": "code",
   "execution_count": 45,
   "metadata": {},
   "outputs": [],
   "source": [
    "from langchain_community.document_loaders import PyMuPDFLoader\n",
    "\n",
    "loader = PyMuPDFLoader(file_path='./s11096-023-01658-x.pdf', extract_images=True)\n",
    "data = loader.load()"
   ]
  },
  {
   "cell_type": "code",
   "execution_count": 46,
   "metadata": {},
   "outputs": [
    {
     "name": "stdout",
     "output_type": "stream",
     "text": [
      "page_content='65\n",
      "International Journal of Clinical Pharmacy (2024) 46:56–69\t\n",
      "1 3\n",
      "profession’s approach to improving the use of medicines \n",
      "through collaboration with other healthcare professionals.\n",
      "Interpretation\n",
      "The content and focus of most of the guidelines related to \n",
      "services such as medication review, medicines reconciliation \n",
      "and medication management including provision of dispens-\n",
      "ing services and clinical checking. Most of the official bod-\n",
      "ies approving and releasing the guidelines were professional \n",
      "regulators, professional society bodies, Health Technology \n",
      "Assessment bodies and independent healthcare bodies. Only \n",
      "a small number of guidelines focused on person-centred \n",
      "care and clinical communication. There is scope to develop \n",
      "international guidelines that can assist best practices in the \n",
      "delivery of person-centred care and clinical communications \n",
      "considering the relevance of these activities to the range \n",
      "of clinical pharmacy services and potential for application \n",
      "across diverse settings and countries.\n",
      "Equity and patient-centred care are important aspects of \n",
      "healthcare, particularly at a time when migration and dis-\n",
      "placement of population groups has created multi-ethnic \n",
      "societies all around the world, and ageing populations are \n",
      "leading to an increasing proportion of citizens dependent \n",
      "upon health and social care services. The results identified \n",
      "that while 20 of the 38 guidelines endorsed the involvement \n",
      "of family and carers, only a few emphasised on providing \n",
      "culturally sensitive information (n = 4) or consideration of \n",
      "people with physical, sensory, or learning disabilities (n = 6). \n",
      "Allied to this, only a minority (n = 6) addressed applicability \n",
      "Table 3   (continued)\n",
      "Guideline\n",
      "Domain 1 (%)\n",
      "Domain 2 (%)\n",
      "Domain 3 (%)\n",
      "Domain 4 (%)\n",
      "Domain 5 (%)\n",
      "Domain 6 (%)\n",
      "Overall \n",
      "quality\n",
      "(1–7)\n",
      "Recommendation of use\n",
      "[52]\n",
      "100\n",
      "100\n",
      "77\n",
      "85.7\n",
      "64.2\n",
      "85.7\n",
      "6\n",
      "Recommended\n",
      "[53]\n",
      "100\n",
      "100\n",
      "80.4\n",
      "76.1\n",
      "60.7\n",
      "64.3\n",
      "6\n",
      "Recommended\n",
      "[54]\n",
      "76.1\n",
      "52.3\n",
      "53.5\n",
      "57.1\n",
      "35.7\n",
      "57.1\n",
      "4\n",
      "Recommended with \n",
      "modification\n",
      "[55]\n",
      "71.4\n",
      "80.9\n",
      "48.2\n",
      "66.6\n",
      "75.0\n",
      "47.6\n",
      "4\n",
      "Recommended with \n",
      "modification\n",
      "Domain 1: Scope and purpose; Domain 2: Stakeholder involvement; Domain 3: Rigour of development; Domain 4: Clarity of presentation; \n",
      "Domain 5: Applicability; Domain 6: Editorial independence\n",
      "Fig.2   Scores obtained from each domain of AGREE II tool. Domain 1: scope and purpose; Domain 2: stakeholder involvement; Domain 3: rig-\n",
      "our of development; Domain 4: clarity of presentation; Domain 5: applicability; Domain 6: editorial independence\n",
      "100\n",
      "90\n",
      "80\n",
      "70\n",
      "60\n",
      "50\n",
      "40\n",
      "30\n",
      "20\n",
      "10\n",
      "Domain1\n",
      "Domain2\n",
      "Domain3\n",
      "Domain4\n",
      "Domain5\n",
      "Domain6' metadata={'source': './s11096-023-01658-x.pdf', 'file_path': './s11096-023-01658-x.pdf', 'page': 9, 'total_pages': 14, 'format': 'PDF 1.4', 'title': 'Scope, content and quality of clinical pharmacy practice guidelines: a systematic review', 'author': 'Vibhu Paudyal ', 'subject': 'International Journal of Clinical Pharmacy, https://doi.org/10.1007/s11096-023-01658-x', 'keywords': 'Clinical pharmacy; Medicines optimisation; Medication review; Practice guidelines', 'creator': 'Springer', 'producer': 'Acrobat Distiller 10.1.8 (Windows)', 'creationDate': \"D:20231118203925+05'30'\", 'modDate': \"D:20240125153102+05'30'\", 'trapped': ''}\n"
     ]
    }
   ],
   "source": [
    "print(data[9])"
   ]
  },
  {
   "cell_type": "code",
   "execution_count": 47,
   "metadata": {},
   "outputs": [],
   "source": [
    "from langchain_community.document_loaders import PyPDFLoader\n",
    "\n",
    "loader = PyPDFLoader(file_path='./Doc Test.pdf', extract_images=True)\n",
    "data = loader.load()"
   ]
  },
  {
   "cell_type": "code",
   "execution_count": 48,
   "metadata": {},
   "outputs": [
    {
     "name": "stdout",
     "output_type": "stream",
     "text": [
      "page_content=' \n",
      "Stemming vs Lemmatization\n",
      "Stemming\n",
      "Lemmatization\n",
      "achieve -> achiev\n",
      "achieve -> achieve\n",
      "achieving ->achiev\n",
      "achieving -> achieve\n",
      "Canreducewordstoa\n",
      "Reducesinflectedwordsto\n",
      "stem that is not an existing\n",
      "their lemma,which is\n",
      "word\n",
      "alwaysanexistingword\n",
      "Operatesonasingleword\n",
      "Can leverage context to\n",
      "withoutknowledgeofthe\n",
      "find thecorrect lemma ofa\n",
      "context\n",
      "word\n",
      "·Simplerandfaster\n",
      "Moreaccuratebutslower' metadata={'source': './Doc Test.pdf', 'page': 0}\n"
     ]
    }
   ],
   "source": [
    "print(data[0])"
   ]
  },
  {
   "cell_type": "code",
   "execution_count": 49,
   "metadata": {},
   "outputs": [],
   "source": [
    "from langchain_community.document_loaders import PyMuPDFLoader\n",
    "\n",
    "loader = PyMuPDFLoader(file_path='./Doc Test.pdf', extract_images=True)\n",
    "data = loader.load()"
   ]
  },
  {
   "cell_type": "code",
   "execution_count": 50,
   "metadata": {},
   "outputs": [
    {
     "name": "stdout",
     "output_type": "stream",
     "text": [
      "page_content=' \n",
      "Stemming vs Lemmatization\n",
      "Stemming\n",
      "Lemmatization\n",
      "achieve -> achiev\n",
      "achieve->achieve\n",
      "achieving ->achiev\n",
      "achieving -> achieve\n",
      "Canreducewords toa\n",
      "Reduces inflected words to\n",
      "stem that is not an existing\n",
      "their lemma,which is\n",
      "word\n",
      "always anexistingword\n",
      "Operatesonasingleword\n",
      "Can leverage context to\n",
      "withoutknowledgeofthe\n",
      "find the correct lemma ofa\n",
      "context\n",
      "word\n",
      "·Simplerandfaster\n",
      "Moreaccuratebutslower' metadata={'source': './Doc Test.pdf', 'file_path': './Doc Test.pdf', 'page': 0, 'total_pages': 1, 'format': 'PDF 1.7', 'title': '', 'author': 'Yee Mich', 'subject': '', 'keywords': '', 'creator': 'Microsoft® Word for Microsoft 365', 'producer': 'Microsoft® Word for Microsoft 365', 'creationDate': \"D:20241228123907+07'00'\", 'modDate': \"D:20241228123907+07'00'\", 'trapped': ''}\n"
     ]
    }
   ],
   "source": [
    "print(data[0])"
   ]
  },
  {
   "cell_type": "markdown",
   "metadata": {},
   "source": [
    "---"
   ]
  },
  {
   "cell_type": "code",
   "execution_count": 51,
   "metadata": {},
   "outputs": [],
   "source": [
    "text = \"\"\"Acne (/'ækni/ ACK-nee), also known as acne vulgaris, is a long-term skin condition that occurs when dead skin cells and oil from the skin clog hair follicles.\n",
    "[10] Typical features of the condition include blackheads or whiteheads, pimples, oily skin, and possible scarring.\n",
    "[1][2][11] It primarily affects skin with a relatively high number of oil glands, including the face, upper part of the chest, and back.[12] The resulting appearance can lead to lack of confidence, anxiety, reduced self-esteem, and, in extreme cases, depression or thoughts of suicide.[3][4]\n",
    "\n",
    "Susceptibility to acne is primarily genetic in 80% of cases.[2] The roles of diet and cigarette smoking in the condition are unclear, and neither cleanliness nor exposure to sunlight are associated with acne.[2][13][14] In both sexes, hormones called androgens appear to be part of the underlying mechanism, by causing increased production of sebum.[5] Another common factor is the excessive growth of the bacterium Cutibacterium acnes, which is present on the skin.[15]\n",
    "\n",
    "Treatments for acne are available, including lifestyle changes, medications, and medical procedures. Eating fewer simple carbohydrates such as sugar may minimize the condition.[7] Treatments applied directly to the affected skin, such as azelaic acid, benzoyl peroxide, and salicylic acid, are commonly used.[8] Antibiotics and retinoids are available in formulations that are applied to the skin and taken by mouth for the treatment of acne.\n",
    "[8] However, resistance to antibiotics may develop as a result of antibiotic therapy.[16] Several types of birth control pills help prevent acne in women.[8] Medical professionals typically reserve isotretinoin pills for severe acne, due to greater potential side effects.[8][17] Early and aggressive treatment of acne is advocated by some in the medical community to decrease the overall long-term impact on individuals.[4]\n",
    "\n",
    "In 2015, acne affected approximately 633 million people globally, making it the eighth-most common disease worldwide.[9][18] Acne commonly occurs in adolescence and affects an estimated 80-90% of teenagers in the Western world.[19][20][21] Some rural societies report lower rates of acne than industrialized ones.\n",
    "[21][22] Children and adults may also be affected before and after puberty.[23] Although acne becomes less common in adulthood, it persists in nearly half of affected people into their twenties and thirties, and a smaller group continues to have difficulties in their forties.[2]\"\"\"\n"
   ]
  },
  {
   "cell_type": "code",
   "execution_count": 52,
   "metadata": {},
   "outputs": [
    {
     "name": "stderr",
     "output_type": "stream",
     "text": [
      "Created a chunk of size 291, which is longer than the specified 200\n",
      "Created a chunk of size 470, which is longer than the specified 200\n",
      "Created a chunk of size 442, which is longer than the specified 200\n",
      "Created a chunk of size 424, which is longer than the specified 200\n",
      "Created a chunk of size 313, which is longer than the specified 200\n"
     ]
    },
    {
     "data": {
      "text/plain": [
       "8"
      ]
     },
     "execution_count": 52,
     "metadata": {},
     "output_type": "execute_result"
    }
   ],
   "source": [
    "from langchain_text_splitters import CharacterTextSplitter\n",
    "\n",
    "splitter = CharacterTextSplitter(\n",
    "    separator='\\n',\n",
    "    chunk_size=200,\n",
    "    chunk_overlap=0\n",
    ")\n",
    "\n",
    "chunks = splitter.split_text(text)\n",
    "len(chunks)"
   ]
  },
  {
   "cell_type": "code",
   "execution_count": 53,
   "metadata": {},
   "outputs": [
    {
     "name": "stdout",
     "output_type": "stream",
     "text": [
      "158\n",
      "115\n",
      "291\n",
      "470\n",
      "442\n",
      "424\n",
      "313\n",
      "279\n"
     ]
    }
   ],
   "source": [
    "for chunk in chunks:\n",
    "    print(len(chunk))"
   ]
  },
  {
   "cell_type": "code",
   "execution_count": 54,
   "metadata": {},
   "outputs": [
    {
     "data": {
      "text/plain": [
       "17"
      ]
     },
     "execution_count": 54,
     "metadata": {},
     "output_type": "execute_result"
    }
   ],
   "source": [
    "from langchain_text_splitters import RecursiveCharacterTextSplitter\n",
    "\n",
    "r_splitter = RecursiveCharacterTextSplitter(separators=[\"\\n\\n\", \"\\n\", \" \"],\n",
    "                               chunk_size=200,\n",
    "                               chunk_overlap=0)\n",
    "\n",
    "chunks = r_splitter.split_text(text)\n",
    "len(chunks)\n"
   ]
  },
  {
   "cell_type": "code",
   "execution_count": 55,
   "metadata": {},
   "outputs": [
    {
     "name": "stdout",
     "output_type": "stream",
     "text": [
      "158\n",
      "115\n",
      "197\n",
      "93\n",
      "197\n",
      "193\n",
      "78\n",
      "198\n",
      "197\n",
      "45\n",
      "197\n",
      "190\n",
      "35\n",
      "195\n",
      "117\n",
      "197\n",
      "81\n"
     ]
    }
   ],
   "source": [
    "for chunk in chunks:\n",
    "    print(len(chunk))"
   ]
  },
  {
   "cell_type": "code",
   "execution_count": 56,
   "metadata": {},
   "outputs": [
    {
     "name": "stdout",
     "output_type": "stream",
     "text": [
      "566\n",
      "470\n",
      "867\n",
      "593\n"
     ]
    }
   ],
   "source": [
    "chunks = text.split(\"\\n\\n\")\n",
    "for chunk in chunks:\n",
    "    print(len(chunk))"
   ]
  },
  {
   "cell_type": "code",
   "execution_count": 57,
   "metadata": {},
   "outputs": [
    {
     "data": {
      "text/plain": [
       "\"Acne (/'ækni/ ACK-nee), also known as acne vulgaris, is a long-term skin condition that occurs when dead skin cells and oil from the skin clog hair follicles.\\n[10] Typical features of the condition include blackheads or whiteheads, pimples, oily skin, and possible scarring.\\n[1][2][11] It primarily affects skin with a relatively high number of oil glands, including the face, upper part of the chest, and back.[12] The resulting appearance can lead to lack of confidence, anxiety, reduced self-esteem, and, in extreme cases, depression or thoughts of suicide.[3][4]\""
      ]
     },
     "execution_count": 57,
     "metadata": {},
     "output_type": "execute_result"
    }
   ],
   "source": [
    "first_split = chunks[0]\n",
    "first_split"
   ]
  },
  {
   "cell_type": "code",
   "execution_count": 58,
   "metadata": {},
   "outputs": [
    {
     "data": {
      "text/plain": [
       "[\"Acne (/'ækni/ ACK-nee), also known as acne vulgaris, is a long-term skin condition that occurs when dead skin cells and oil from the skin clog hair follicles.\",\n",
       " '[10] Typical features of the condition include blackheads or whiteheads, pimples, oily skin, and possible scarring.',\n",
       " '[1][2][11] It primarily affects skin with a relatively high number of oil glands, including the face, upper part of the chest, and back.[12] The resulting appearance can lead to lack of confidence, anxiety, reduced self-esteem, and, in extreme cases, depression or thoughts of suicide.[3][4]']"
      ]
     },
     "execution_count": 58,
     "metadata": {},
     "output_type": "execute_result"
    }
   ],
   "source": [
    "first_split.split(\"\\n\")"
   ]
  },
  {
   "cell_type": "code",
   "execution_count": 59,
   "metadata": {},
   "outputs": [
    {
     "data": {
      "text/plain": [
       "115"
      ]
     },
     "execution_count": 59,
     "metadata": {},
     "output_type": "execute_result"
    }
   ],
   "source": [
    "second_split = first_split.split(\"\\n\")\n",
    "len(second_split[1])"
   ]
  },
  {
   "cell_type": "code",
   "execution_count": 60,
   "metadata": {},
   "outputs": [
    {
     "name": "stdout",
     "output_type": "stream",
     "text": [
      "158\n",
      "115\n",
      "291\n"
     ]
    }
   ],
   "source": [
    "for chunk in second_split:\n",
    "    print(len(chunk))"
   ]
  },
  {
   "cell_type": "code",
   "execution_count": 61,
   "metadata": {},
   "outputs": [
    {
     "data": {
      "text/plain": [
       "['[1][2][11]',\n",
       " 'It',\n",
       " 'primarily',\n",
       " 'affects',\n",
       " 'skin',\n",
       " 'with',\n",
       " 'a',\n",
       " 'relatively',\n",
       " 'high',\n",
       " 'number',\n",
       " 'of',\n",
       " 'oil',\n",
       " 'glands,',\n",
       " 'including',\n",
       " 'the',\n",
       " 'face,',\n",
       " 'upper',\n",
       " 'part',\n",
       " 'of',\n",
       " 'the',\n",
       " 'chest,',\n",
       " 'and',\n",
       " 'back.[12]',\n",
       " 'The',\n",
       " 'resulting',\n",
       " 'appearance',\n",
       " 'can',\n",
       " 'lead',\n",
       " 'to',\n",
       " 'lack',\n",
       " 'of',\n",
       " 'confidence,',\n",
       " 'anxiety,',\n",
       " 'reduced',\n",
       " 'self-esteem,',\n",
       " 'and,',\n",
       " 'in',\n",
       " 'extreme',\n",
       " 'cases,',\n",
       " 'depression',\n",
       " 'or',\n",
       " 'thoughts',\n",
       " 'of',\n",
       " 'suicide.[3][4]']"
      ]
     },
     "execution_count": 61,
     "metadata": {},
     "output_type": "execute_result"
    }
   ],
   "source": [
    "second_split[2].split(\" \") # It will merge the words"
   ]
  },
  {
   "attachments": {
    "image.png": {
     "image/png": "[encoded data removed]"
    }
   },
   "cell_type": "markdown",
   "metadata": {},
   "source": [
    "210 -> ![image.png](attachment:image.png)"
   ]
  },
  {
   "cell_type": "code",
   "execution_count": 76,
   "metadata": {},
   "outputs": [
    {
     "data": {
      "text/plain": [
       "68"
      ]
     },
     "execution_count": 76,
     "metadata": {},
     "output_type": "execute_result"
    }
   ],
   "source": [
    "from langchain_community.document_loaders import PyPDFLoader\n",
    "\n",
    "loader = PyPDFLoader(file_path='./s11096-023-01658-x.pdf', extract_images=True)\n",
    "data = loader.load()\n",
    "\n",
    "text_splitter = RecursiveCharacterTextSplitter(\n",
    "    # separators=[\"\\n\\n\", \"\\n\", \" \"],\n",
    "    chunk_size=1000,\n",
    "    chunk_overlap=100)\n",
    "docs = text_splitter.split_documents(data)\n",
    "len(docs)"
   ]
  },
  {
   "cell_type": "code",
   "execution_count": 75,
   "metadata": {},
   "outputs": [
    {
     "name": "stdout",
     "output_type": "stream",
     "text": [
      "460\n",
      "440\n",
      "465\n",
      "413\n",
      "486\n",
      "465\n",
      "447\n",
      "471\n",
      "230\n",
      "474\n",
      "473\n",
      "465\n",
      "483\n",
      "471\n",
      "460\n",
      "461\n",
      "452\n",
      "475\n",
      "496\n",
      "479\n",
      "453\n",
      "118\n",
      "488\n",
      "459\n",
      "446\n",
      "440\n",
      "465\n",
      "450\n",
      "480\n",
      "498\n",
      "489\n",
      "490\n",
      "478\n",
      "496\n",
      "429\n",
      "447\n",
      "489\n",
      "492\n",
      "437\n",
      "482\n",
      "344\n",
      "481\n",
      "495\n",
      "488\n",
      "468\n",
      "483\n",
      "461\n",
      "338\n",
      "498\n",
      "470\n",
      "442\n",
      "408\n",
      "425\n",
      "495\n",
      "457\n",
      "154\n",
      "472\n",
      "497\n",
      "496\n",
      "492\n",
      "446\n",
      "499\n",
      "471\n",
      "466\n",
      "498\n",
      "140\n",
      "473\n",
      "493\n",
      "468\n",
      "460\n",
      "466\n",
      "462\n",
      "233\n",
      "499\n",
      "498\n",
      "481\n",
      "487\n",
      "461\n",
      "173\n",
      "499\n",
      "480\n",
      "451\n",
      "453\n",
      "446\n",
      "408\n",
      "190\n",
      "483\n",
      "471\n",
      "481\n",
      "486\n",
      "479\n",
      "448\n",
      "474\n",
      "457\n",
      "479\n",
      "477\n",
      "490\n",
      "439\n",
      "485\n",
      "239\n",
      "475\n",
      "430\n",
      "437\n",
      "428\n",
      "445\n",
      "442\n",
      "473\n",
      "495\n",
      "474\n",
      "483\n",
      "446\n",
      "460\n",
      "455\n",
      "437\n",
      "454\n",
      "467\n",
      "482\n",
      "438\n",
      "197\n",
      "467\n",
      "486\n",
      "485\n",
      "447\n",
      "458\n",
      "498\n",
      "469\n",
      "485\n",
      "488\n",
      "457\n",
      "467\n",
      "467\n",
      "478\n",
      "464\n",
      "486\n",
      "495\n",
      "484\n",
      "436\n",
      "238\n",
      "452\n",
      "443\n",
      "462\n",
      "452\n",
      "463\n",
      "136\n"
     ]
    }
   ],
   "source": [
    "for doc in docs:\n",
    "    # print(doc.page_content)\n",
    "    print(len(doc.page_content))"
   ]
  },
  {
   "cell_type": "code",
   "execution_count": 63,
   "metadata": {},
   "outputs": [],
   "source": [
    "# import os\n",
    "# from dotenv import load_dotenv\n",
    "\n",
    "# load_dotenv(dotenv_path='../.env')"
   ]
  },
  {
   "cell_type": "code",
   "execution_count": 64,
   "metadata": {},
   "outputs": [],
   "source": [
    "# os.getenv('OPENAI_API_KEY')\n",
    "# os.environ['OPENAI_API_KEY']"
   ]
  }
 ],
 "metadata": {
  "kernelspec": {
   "display_name": "LLMEnv",
   "language": "python",
   "name": "python3"
  },
  "language_info": {
   "codemirror_mode": {
    "name": "ipython",
    "version": 3
   },
   "file_extension": ".py",
   "mimetype": "text/x-python",
   "name": "python",
   "nbconvert_exporter": "python",
   "pygments_lexer": "ipython3",
   "version": "3.10.16"
  }
 },
 "nbformat": 4,
 "nbformat_minor": 2
}
